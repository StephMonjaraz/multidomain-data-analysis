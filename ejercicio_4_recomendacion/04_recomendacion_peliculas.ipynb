{
 "cells": [
  {
   "cell_type": "markdown",
   "id": "cb5b0df3",
   "metadata": {},
   "source": [
    "# Ejercicio 4 – Sistema de recomendación simple de películas\n",
    "### Proyecto de Análisis de Datos 2025-2\n",
    "**Por: Jessica y Eduardo | Rama: Steph**\n",
    "\n"
   ]
  },
  {
   "cell_type": "markdown",
   "id": "fbda3888",
   "metadata": {},
   "source": [
    "## 1. Carga y exploración general de los datos\n",
    "En esta sección caragremos los datos de películas y calificaciones, revisaremos sus dimensiones, tipos de datos y si es que tieien valores nulos."
   ]
  },
  {
   "cell_type": "code",
   "execution_count": 1,
   "id": "832403b1",
   "metadata": {},
   "outputs": [
    {
     "name": "stdout",
     "output_type": "stream",
     "text": [
      "(100836, 4)\n",
      "(9742, 3)\n"
     ]
    }
   ],
   "source": [
    "import polars as pl\n",
    "import numpy as np\n",
    "\n",
    "ratings_df = pl.read_csv(\"ratings.csv\")\n",
    "movies_df = pl.read_csv(\"movies.csv\")\n",
    "print(ratings_df.shape)\n",
    "print(movies_df.shape)"
   ]
  },
  {
   "cell_type": "code",
   "execution_count": 2,
   "id": "1f1479c7",
   "metadata": {},
   "outputs": [
    {
     "name": "stdout",
     "output_type": "stream",
     "text": [
      "[Int64, Int64, Float64, Int64]\n",
      "[Int64, String, String]\n"
     ]
    }
   ],
   "source": [
    "#revisamos los tipos de datos por columna\n",
    "print(ratings_df.dtypes)\n",
    "\n",
    "print(movies_df.dtypes)"
   ]
  },
  {
   "cell_type": "code",
   "execution_count": 3,
   "id": "b4b5a0be",
   "metadata": {},
   "outputs": [
    {
     "name": "stdout",
     "output_type": "stream",
     "text": [
      "shape: (1, 4)\n",
      "┌────────┬─────────┬────────┬───────────┐\n",
      "│ userId ┆ movieId ┆ rating ┆ timestamp │\n",
      "│ ---    ┆ ---     ┆ ---    ┆ ---       │\n",
      "│ u32    ┆ u32     ┆ u32    ┆ u32       │\n",
      "╞════════╪═════════╪════════╪═══════════╡\n",
      "│ 0      ┆ 0       ┆ 0      ┆ 0         │\n",
      "└────────┴─────────┴────────┴───────────┘\n",
      "shape: (1, 3)\n",
      "┌─────────┬───────┬────────┐\n",
      "│ movieId ┆ title ┆ genres │\n",
      "│ ---     ┆ ---   ┆ ---    │\n",
      "│ u32     ┆ u32   ┆ u32    │\n",
      "╞═════════╪═══════╪════════╡\n",
      "│ 0       ┆ 0     ┆ 0      │\n",
      "└─────────┴───────┴────────┘\n"
     ]
    }
   ],
   "source": [
    "#revisamos si es que hay valores nulos\n",
    "print(ratings_df.null_count())\n",
    "print(movies_df.null_count())"
   ]
  },
  {
   "cell_type": "code",
   "execution_count": 4,
   "id": "d74b51ec",
   "metadata": {},
   "outputs": [
    {
     "name": "stdout",
     "output_type": "stream",
     "text": [
      "shape: (5, 4)\n",
      "┌────────┬─────────┬────────┬───────────┐\n",
      "│ userId ┆ movieId ┆ rating ┆ timestamp │\n",
      "│ ---    ┆ ---     ┆ ---    ┆ ---       │\n",
      "│ i64    ┆ i64     ┆ f64    ┆ i64       │\n",
      "╞════════╪═════════╪════════╪═══════════╡\n",
      "│ 1      ┆ 1       ┆ 4.0    ┆ 964982703 │\n",
      "│ 1      ┆ 3       ┆ 4.0    ┆ 964981247 │\n",
      "│ 1      ┆ 6       ┆ 4.0    ┆ 964982224 │\n",
      "│ 1      ┆ 47      ┆ 5.0    ┆ 964983815 │\n",
      "│ 1      ┆ 50      ┆ 5.0    ┆ 964982931 │\n",
      "└────────┴─────────┴────────┴───────────┘\n",
      "shape: (5, 3)\n",
      "┌─────────┬─────────────────────────────────┬─────────────────────────────────┐\n",
      "│ movieId ┆ title                           ┆ genres                          │\n",
      "│ ---     ┆ ---                             ┆ ---                             │\n",
      "│ i64     ┆ str                             ┆ str                             │\n",
      "╞═════════╪═════════════════════════════════╪═════════════════════════════════╡\n",
      "│ 1       ┆ Toy Story (1995)                ┆ Adventure|Animation|Children|C… │\n",
      "│ 2       ┆ Jumanji (1995)                  ┆ Adventure|Children|Fantasy      │\n",
      "│ 3       ┆ Grumpier Old Men (1995)         ┆ Comedy|Romance                  │\n",
      "│ 4       ┆ Waiting to Exhale (1995)        ┆ Comedy|Drama|Romance            │\n",
      "│ 5       ┆ Father of the Bride Part II (1… ┆ Comedy                          │\n",
      "└─────────┴─────────────────────────────────┴─────────────────────────────────┘\n"
     ]
    }
   ],
   "source": [
    "# vemos los primeros registras del dataset ratings y movies\n",
    "print(ratings_df.head())\n",
    "print(movies_df.head())"
   ]
  },
  {
   "cell_type": "markdown",
   "id": "8310600e",
   "metadata": {},
   "source": [
    "## 2. Limpieza básica\n",
    "En esta seccion eliminaremos duplicados y valores nulos que pueden afectar el análisis posterior."
   ]
  },
  {
   "cell_type": "code",
   "execution_count": 5,
   "id": "ce518686",
   "metadata": {},
   "outputs": [],
   "source": [
    "# eliminamos los duplicados y valores nulos\n",
    "\n",
    "\n",
    "ratings_df = ratings_df.unique().drop_nulls()\n",
    "movies_df = movies_df.unique().drop_nulls()"
   ]
  },
  {
   "cell_type": "markdown",
   "id": "1562e4e0",
   "metadata": {},
   "source": [
    "## 3. Análisis exploratorio + visualización inicial\n",
    "Uniremos la información de ratings y películas, transformamos el timestamp, y exploramos patrones por año, mes y género."
   ]
  },
  {
   "cell_type": "code",
   "execution_count": 6,
   "id": "3e6765e2",
   "metadata": {},
   "outputs": [],
   "source": [
    "# unimos los ratings con los datos de las películas (join))\n",
    "df = ratings_df.join(movies_df, on=\"movieId\", how=\"inner\")"
   ]
  },
  {
   "cell_type": "code",
   "execution_count": 7,
   "id": "e2f1fad5",
   "metadata": {},
   "outputs": [],
   "source": [
    "#transformamos el timestamp en fecha y extraer año y mes\n",
    "df = df.with_columns([\n",
    "    (pl.col(\"timestamp\") * 1000).cast(pl.Datetime(\"ms\")).alias(\"datetime\")\n",
    "])\n",
    "df = df.with_columns([\n",
    "    pl.col(\"datetime\").dt.year().alias(\"year\"),\n",
    "    pl.col(\"datetime\").dt.month().alias(\"month\")\n",
    "])"
   ]
  },
  {
   "cell_type": "code",
   "execution_count": 8,
   "id": "27f85940",
   "metadata": {},
   "outputs": [
    {
     "name": "stderr",
     "output_type": "stream",
     "text": [
      "/tmp/ipykernel_24272/4070509536.py:2: DeprecationWarning: `pl.count()` is deprecated. Please use `pl.len()` instead.\n",
      "(Deprecated in version 0.20.5)\n",
      "  df.group_by(\"year\").agg(pl.count().alias(\"n_calificaciones\")).sort(\"year\")\n"
     ]
    },
    {
     "data": {
      "text/html": [
       "<div><style>\n",
       ".dataframe > thead > tr,\n",
       ".dataframe > tbody > tr {\n",
       "  text-align: right;\n",
       "  white-space: pre-wrap;\n",
       "}\n",
       "</style>\n",
       "<small>shape: (23, 2)</small><table border=\"1\" class=\"dataframe\"><thead><tr><th>year</th><th>n_calificaciones</th></tr><tr><td>i32</td><td>u32</td></tr></thead><tbody><tr><td>1996</td><td>6040</td></tr><tr><td>1997</td><td>1916</td></tr><tr><td>1998</td><td>507</td></tr><tr><td>1999</td><td>2439</td></tr><tr><td>2000</td><td>10061</td></tr><tr><td>&hellip;</td><td>&hellip;</td></tr><tr><td>2014</td><td>1439</td></tr><tr><td>2015</td><td>6616</td></tr><tr><td>2016</td><td>6703</td></tr><tr><td>2017</td><td>8198</td></tr><tr><td>2018</td><td>6418</td></tr></tbody></table></div>"
      ],
      "text/plain": [
       "shape: (23, 2)\n",
       "┌──────┬──────────────────┐\n",
       "│ year ┆ n_calificaciones │\n",
       "│ ---  ┆ ---              │\n",
       "│ i32  ┆ u32              │\n",
       "╞══════╪══════════════════╡\n",
       "│ 1996 ┆ 6040             │\n",
       "│ 1997 ┆ 1916             │\n",
       "│ 1998 ┆ 507              │\n",
       "│ 1999 ┆ 2439             │\n",
       "│ 2000 ┆ 10061            │\n",
       "│ …    ┆ …                │\n",
       "│ 2014 ┆ 1439             │\n",
       "│ 2015 ┆ 6616             │\n",
       "│ 2016 ┆ 6703             │\n",
       "│ 2017 ┆ 8198             │\n",
       "│ 2018 ┆ 6418             │\n",
       "└──────┴──────────────────┘"
      ]
     },
     "execution_count": 8,
     "metadata": {},
     "output_type": "execute_result"
    }
   ],
   "source": [
    "#calificaones por año\n",
    "df.group_by(\"year\").agg(pl.count().alias(\"n_calificaciones\")).sort(\"year\")"
   ]
  },
  {
   "cell_type": "code",
   "execution_count": 9,
   "id": "ce448c64",
   "metadata": {},
   "outputs": [
    {
     "name": "stderr",
     "output_type": "stream",
     "text": [
      "/tmp/ipykernel_24272/1864306254.py:2: DeprecationWarning: `pl.count()` is deprecated. Please use `pl.len()` instead.\n",
      "(Deprecated in version 0.20.5)\n",
      "  df.group_by(\"month\").agg(pl.count().alias(\"n_calificaciones\")).sort(\"month\")\n"
     ]
    },
    {
     "data": {
      "text/html": [
       "<div><style>\n",
       ".dataframe > thead > tr,\n",
       ".dataframe > tbody > tr {\n",
       "  text-align: right;\n",
       "  white-space: pre-wrap;\n",
       "}\n",
       "</style>\n",
       "<small>shape: (12, 2)</small><table border=\"1\" class=\"dataframe\"><thead><tr><th>month</th><th>n_calificaciones</th></tr><tr><td>i8</td><td>u32</td></tr></thead><tbody><tr><td>1</td><td>8684</td></tr><tr><td>2</td><td>7635</td></tr><tr><td>3</td><td>8880</td></tr><tr><td>4</td><td>7727</td></tr><tr><td>5</td><td>10883</td></tr><tr><td>&hellip;</td><td>&hellip;</td></tr><tr><td>8</td><td>9074</td></tr><tr><td>9</td><td>8510</td></tr><tr><td>10</td><td>7148</td></tr><tr><td>11</td><td>9676</td></tr><tr><td>12</td><td>6844</td></tr></tbody></table></div>"
      ],
      "text/plain": [
       "shape: (12, 2)\n",
       "┌───────┬──────────────────┐\n",
       "│ month ┆ n_calificaciones │\n",
       "│ ---   ┆ ---              │\n",
       "│ i8    ┆ u32              │\n",
       "╞═══════╪══════════════════╡\n",
       "│ 1     ┆ 8684             │\n",
       "│ 2     ┆ 7635             │\n",
       "│ 3     ┆ 8880             │\n",
       "│ 4     ┆ 7727             │\n",
       "│ 5     ┆ 10883            │\n",
       "│ …     ┆ …                │\n",
       "│ 8     ┆ 9074             │\n",
       "│ 9     ┆ 8510             │\n",
       "│ 10    ┆ 7148             │\n",
       "│ 11    ┆ 9676             │\n",
       "│ 12    ┆ 6844             │\n",
       "└───────┴──────────────────┘"
      ]
     },
     "execution_count": 9,
     "metadata": {},
     "output_type": "execute_result"
    }
   ],
   "source": [
    "#calificaiones por mes\n",
    "df.group_by(\"month\").agg(pl.count().alias(\"n_calificaciones\")).sort(\"month\")"
   ]
  },
  {
   "cell_type": "code",
   "execution_count": 10,
   "id": "2997ee1f",
   "metadata": {},
   "outputs": [],
   "source": [
    "#separamos múltiples géneros por película\n",
    "df_genres = df.with_columns([\n",
    "\n",
    "    pl.col(\"genres\").str.split(\"|\").alias(\"genres_list\")\n",
    "    \n",
    "]).explode(\"genres_list\")"
   ]
  },
  {
   "cell_type": "code",
   "execution_count": 11,
   "id": "e81b79c9",
   "metadata": {},
   "outputs": [
    {
     "name": "stderr",
     "output_type": "stream",
     "text": [
      "/tmp/ipykernel_24272/667415679.py:4: DeprecationWarning: `pl.count()` is deprecated. Please use `pl.len()` instead.\n",
      "(Deprecated in version 0.20.5)\n",
      "  pl.count().alias(\"n_calificaciones\")\n"
     ]
    },
    {
     "data": {
      "text/html": [
       "<div><style>\n",
       ".dataframe > thead > tr,\n",
       ".dataframe > tbody > tr {\n",
       "  text-align: right;\n",
       "  white-space: pre-wrap;\n",
       "}\n",
       "</style>\n",
       "<small>shape: (20, 3)</small><table border=\"1\" class=\"dataframe\"><thead><tr><th>genres_list</th><th>avg_rating</th><th>n_calificaciones</th></tr><tr><td>str</td><td>f64</td><td>u32</td></tr></thead><tbody><tr><td>&quot;Film-Noir&quot;</td><td>3.920115</td><td>870</td></tr><tr><td>&quot;War&quot;</td><td>3.808294</td><td>4859</td></tr><tr><td>&quot;Documentary&quot;</td><td>3.797785</td><td>1219</td></tr><tr><td>&quot;Crime&quot;</td><td>3.658294</td><td>16681</td></tr><tr><td>&quot;Drama&quot;</td><td>3.656184</td><td>41928</td></tr><tr><td>&hellip;</td><td>&hellip;</td><td>&hellip;</td></tr><tr><td>&quot;Sci-Fi&quot;</td><td>3.455721</td><td>17243</td></tr><tr><td>&quot;Action&quot;</td><td>3.447984</td><td>30635</td></tr><tr><td>&quot;Children&quot;</td><td>3.412956</td><td>9208</td></tr><tr><td>&quot;Comedy&quot;</td><td>3.384721</td><td>39053</td></tr><tr><td>&quot;Horror&quot;</td><td>3.258195</td><td>7291</td></tr></tbody></table></div>"
      ],
      "text/plain": [
       "shape: (20, 3)\n",
       "┌─────────────┬────────────┬──────────────────┐\n",
       "│ genres_list ┆ avg_rating ┆ n_calificaciones │\n",
       "│ ---         ┆ ---        ┆ ---              │\n",
       "│ str         ┆ f64        ┆ u32              │\n",
       "╞═════════════╪════════════╪══════════════════╡\n",
       "│ Film-Noir   ┆ 3.920115   ┆ 870              │\n",
       "│ War         ┆ 3.808294   ┆ 4859             │\n",
       "│ Documentary ┆ 3.797785   ┆ 1219             │\n",
       "│ Crime       ┆ 3.658294   ┆ 16681            │\n",
       "│ Drama       ┆ 3.656184   ┆ 41928            │\n",
       "│ …           ┆ …          ┆ …                │\n",
       "│ Sci-Fi      ┆ 3.455721   ┆ 17243            │\n",
       "│ Action      ┆ 3.447984   ┆ 30635            │\n",
       "│ Children    ┆ 3.412956   ┆ 9208             │\n",
       "│ Comedy      ┆ 3.384721   ┆ 39053            │\n",
       "│ Horror      ┆ 3.258195   ┆ 7291             │\n",
       "└─────────────┴────────────┴──────────────────┘"
      ]
     },
     "execution_count": 11,
     "metadata": {},
     "output_type": "execute_result"
    }
   ],
   "source": [
    "#obtenemos el promedio de calificación y conteo por género\n",
    "df_genres.group_by(\"genres_list\").agg([\n",
    "    pl.col(\"rating\").mean().alias(\"avg_rating\"),\n",
    "    pl.count().alias(\"n_calificaciones\")\n",
    "]).sort(\"avg_rating\", descending=True)"
   ]
  },
  {
   "cell_type": "markdown",
   "id": "f74d17e5",
   "metadata": {},
   "source": [
    "## 4. Preprocesamiento técnico\n",
    "Construimos una matriz de utilidad usuario-película para alimentar el modelo."
   ]
  },
  {
   "cell_type": "code",
   "execution_count": 12,
   "id": "ee52b861",
   "metadata": {},
   "outputs": [
    {
     "name": "stderr",
     "output_type": "stream",
     "text": [
      "/tmp/ipykernel_24272/4050313964.py:3: DeprecationWarning: the argument `columns` for `DataFrame.pivot` is deprecated. It was renamed to `on` in version 1.0.0.\n",
      "  user_movie_matrix = pivot_df.pivot(values=\"rating\", index=\"userId\", columns=\"movieId\")\n"
     ]
    }
   ],
   "source": [
    "#creamos una matriz de utilidad\n",
    "pivot_df = df.select([\"userId\", \"movieId\", \"rating\"])\n",
    "user_movie_matrix = pivot_df.pivot(values=\"rating\", index=\"userId\", columns=\"movieId\")\n",
    "user_movie_matrix = user_movie_matrix.fill_null(0)"
   ]
  },
  {
   "cell_type": "markdown",
   "id": "19bc9b28",
   "metadata": {},
   "source": [
    "## 5. Entrenamiento del modelo de ML (KNN)\n",
    "ENtrenamos un modelo KNN basado en la similitud entre usuarios usando coseno"
   ]
  },
  {
   "cell_type": "code",
   "execution_count": 13,
   "id": "0c314b2e",
   "metadata": {},
   "outputs": [
    {
     "data": {
      "text/html": [
       "<style>#sk-container-id-1 {\n",
       "  /* Definition of color scheme common for light and dark mode */\n",
       "  --sklearn-color-text: #000;\n",
       "  --sklearn-color-text-muted: #666;\n",
       "  --sklearn-color-line: gray;\n",
       "  /* Definition of color scheme for unfitted estimators */\n",
       "  --sklearn-color-unfitted-level-0: #fff5e6;\n",
       "  --sklearn-color-unfitted-level-1: #f6e4d2;\n",
       "  --sklearn-color-unfitted-level-2: #ffe0b3;\n",
       "  --sklearn-color-unfitted-level-3: chocolate;\n",
       "  /* Definition of color scheme for fitted estimators */\n",
       "  --sklearn-color-fitted-level-0: #f0f8ff;\n",
       "  --sklearn-color-fitted-level-1: #d4ebff;\n",
       "  --sklearn-color-fitted-level-2: #b3dbfd;\n",
       "  --sklearn-color-fitted-level-3: cornflowerblue;\n",
       "\n",
       "  /* Specific color for light theme */\n",
       "  --sklearn-color-text-on-default-background: var(--sg-text-color, var(--theme-code-foreground, var(--jp-content-font-color1, black)));\n",
       "  --sklearn-color-background: var(--sg-background-color, var(--theme-background, var(--jp-layout-color0, white)));\n",
       "  --sklearn-color-border-box: var(--sg-text-color, var(--theme-code-foreground, var(--jp-content-font-color1, black)));\n",
       "  --sklearn-color-icon: #696969;\n",
       "\n",
       "  @media (prefers-color-scheme: dark) {\n",
       "    /* Redefinition of color scheme for dark theme */\n",
       "    --sklearn-color-text-on-default-background: var(--sg-text-color, var(--theme-code-foreground, var(--jp-content-font-color1, white)));\n",
       "    --sklearn-color-background: var(--sg-background-color, var(--theme-background, var(--jp-layout-color0, #111)));\n",
       "    --sklearn-color-border-box: var(--sg-text-color, var(--theme-code-foreground, var(--jp-content-font-color1, white)));\n",
       "    --sklearn-color-icon: #878787;\n",
       "  }\n",
       "}\n",
       "\n",
       "#sk-container-id-1 {\n",
       "  color: var(--sklearn-color-text);\n",
       "}\n",
       "\n",
       "#sk-container-id-1 pre {\n",
       "  padding: 0;\n",
       "}\n",
       "\n",
       "#sk-container-id-1 input.sk-hidden--visually {\n",
       "  border: 0;\n",
       "  clip: rect(1px 1px 1px 1px);\n",
       "  clip: rect(1px, 1px, 1px, 1px);\n",
       "  height: 1px;\n",
       "  margin: -1px;\n",
       "  overflow: hidden;\n",
       "  padding: 0;\n",
       "  position: absolute;\n",
       "  width: 1px;\n",
       "}\n",
       "\n",
       "#sk-container-id-1 div.sk-dashed-wrapped {\n",
       "  border: 1px dashed var(--sklearn-color-line);\n",
       "  margin: 0 0.4em 0.5em 0.4em;\n",
       "  box-sizing: border-box;\n",
       "  padding-bottom: 0.4em;\n",
       "  background-color: var(--sklearn-color-background);\n",
       "}\n",
       "\n",
       "#sk-container-id-1 div.sk-container {\n",
       "  /* jupyter's `normalize.less` sets `[hidden] { display: none; }`\n",
       "     but bootstrap.min.css set `[hidden] { display: none !important; }`\n",
       "     so we also need the `!important` here to be able to override the\n",
       "     default hidden behavior on the sphinx rendered scikit-learn.org.\n",
       "     See: https://github.com/scikit-learn/scikit-learn/issues/21755 */\n",
       "  display: inline-block !important;\n",
       "  position: relative;\n",
       "}\n",
       "\n",
       "#sk-container-id-1 div.sk-text-repr-fallback {\n",
       "  display: none;\n",
       "}\n",
       "\n",
       "div.sk-parallel-item,\n",
       "div.sk-serial,\n",
       "div.sk-item {\n",
       "  /* draw centered vertical line to link estimators */\n",
       "  background-image: linear-gradient(var(--sklearn-color-text-on-default-background), var(--sklearn-color-text-on-default-background));\n",
       "  background-size: 2px 100%;\n",
       "  background-repeat: no-repeat;\n",
       "  background-position: center center;\n",
       "}\n",
       "\n",
       "/* Parallel-specific style estimator block */\n",
       "\n",
       "#sk-container-id-1 div.sk-parallel-item::after {\n",
       "  content: \"\";\n",
       "  width: 100%;\n",
       "  border-bottom: 2px solid var(--sklearn-color-text-on-default-background);\n",
       "  flex-grow: 1;\n",
       "}\n",
       "\n",
       "#sk-container-id-1 div.sk-parallel {\n",
       "  display: flex;\n",
       "  align-items: stretch;\n",
       "  justify-content: center;\n",
       "  background-color: var(--sklearn-color-background);\n",
       "  position: relative;\n",
       "}\n",
       "\n",
       "#sk-container-id-1 div.sk-parallel-item {\n",
       "  display: flex;\n",
       "  flex-direction: column;\n",
       "}\n",
       "\n",
       "#sk-container-id-1 div.sk-parallel-item:first-child::after {\n",
       "  align-self: flex-end;\n",
       "  width: 50%;\n",
       "}\n",
       "\n",
       "#sk-container-id-1 div.sk-parallel-item:last-child::after {\n",
       "  align-self: flex-start;\n",
       "  width: 50%;\n",
       "}\n",
       "\n",
       "#sk-container-id-1 div.sk-parallel-item:only-child::after {\n",
       "  width: 0;\n",
       "}\n",
       "\n",
       "/* Serial-specific style estimator block */\n",
       "\n",
       "#sk-container-id-1 div.sk-serial {\n",
       "  display: flex;\n",
       "  flex-direction: column;\n",
       "  align-items: center;\n",
       "  background-color: var(--sklearn-color-background);\n",
       "  padding-right: 1em;\n",
       "  padding-left: 1em;\n",
       "}\n",
       "\n",
       "\n",
       "/* Toggleable style: style used for estimator/Pipeline/ColumnTransformer box that is\n",
       "clickable and can be expanded/collapsed.\n",
       "- Pipeline and ColumnTransformer use this feature and define the default style\n",
       "- Estimators will overwrite some part of the style using the `sk-estimator` class\n",
       "*/\n",
       "\n",
       "/* Pipeline and ColumnTransformer style (default) */\n",
       "\n",
       "#sk-container-id-1 div.sk-toggleable {\n",
       "  /* Default theme specific background. It is overwritten whether we have a\n",
       "  specific estimator or a Pipeline/ColumnTransformer */\n",
       "  background-color: var(--sklearn-color-background);\n",
       "}\n",
       "\n",
       "/* Toggleable label */\n",
       "#sk-container-id-1 label.sk-toggleable__label {\n",
       "  cursor: pointer;\n",
       "  display: flex;\n",
       "  width: 100%;\n",
       "  margin-bottom: 0;\n",
       "  padding: 0.5em;\n",
       "  box-sizing: border-box;\n",
       "  text-align: center;\n",
       "  align-items: start;\n",
       "  justify-content: space-between;\n",
       "  gap: 0.5em;\n",
       "}\n",
       "\n",
       "#sk-container-id-1 label.sk-toggleable__label .caption {\n",
       "  font-size: 0.6rem;\n",
       "  font-weight: lighter;\n",
       "  color: var(--sklearn-color-text-muted);\n",
       "}\n",
       "\n",
       "#sk-container-id-1 label.sk-toggleable__label-arrow:before {\n",
       "  /* Arrow on the left of the label */\n",
       "  content: \"▸\";\n",
       "  float: left;\n",
       "  margin-right: 0.25em;\n",
       "  color: var(--sklearn-color-icon);\n",
       "}\n",
       "\n",
       "#sk-container-id-1 label.sk-toggleable__label-arrow:hover:before {\n",
       "  color: var(--sklearn-color-text);\n",
       "}\n",
       "\n",
       "/* Toggleable content - dropdown */\n",
       "\n",
       "#sk-container-id-1 div.sk-toggleable__content {\n",
       "  max-height: 0;\n",
       "  max-width: 0;\n",
       "  overflow: hidden;\n",
       "  text-align: left;\n",
       "  /* unfitted */\n",
       "  background-color: var(--sklearn-color-unfitted-level-0);\n",
       "}\n",
       "\n",
       "#sk-container-id-1 div.sk-toggleable__content.fitted {\n",
       "  /* fitted */\n",
       "  background-color: var(--sklearn-color-fitted-level-0);\n",
       "}\n",
       "\n",
       "#sk-container-id-1 div.sk-toggleable__content pre {\n",
       "  margin: 0.2em;\n",
       "  border-radius: 0.25em;\n",
       "  color: var(--sklearn-color-text);\n",
       "  /* unfitted */\n",
       "  background-color: var(--sklearn-color-unfitted-level-0);\n",
       "}\n",
       "\n",
       "#sk-container-id-1 div.sk-toggleable__content.fitted pre {\n",
       "  /* unfitted */\n",
       "  background-color: var(--sklearn-color-fitted-level-0);\n",
       "}\n",
       "\n",
       "#sk-container-id-1 input.sk-toggleable__control:checked~div.sk-toggleable__content {\n",
       "  /* Expand drop-down */\n",
       "  max-height: 200px;\n",
       "  max-width: 100%;\n",
       "  overflow: auto;\n",
       "}\n",
       "\n",
       "#sk-container-id-1 input.sk-toggleable__control:checked~label.sk-toggleable__label-arrow:before {\n",
       "  content: \"▾\";\n",
       "}\n",
       "\n",
       "/* Pipeline/ColumnTransformer-specific style */\n",
       "\n",
       "#sk-container-id-1 div.sk-label input.sk-toggleable__control:checked~label.sk-toggleable__label {\n",
       "  color: var(--sklearn-color-text);\n",
       "  background-color: var(--sklearn-color-unfitted-level-2);\n",
       "}\n",
       "\n",
       "#sk-container-id-1 div.sk-label.fitted input.sk-toggleable__control:checked~label.sk-toggleable__label {\n",
       "  background-color: var(--sklearn-color-fitted-level-2);\n",
       "}\n",
       "\n",
       "/* Estimator-specific style */\n",
       "\n",
       "/* Colorize estimator box */\n",
       "#sk-container-id-1 div.sk-estimator input.sk-toggleable__control:checked~label.sk-toggleable__label {\n",
       "  /* unfitted */\n",
       "  background-color: var(--sklearn-color-unfitted-level-2);\n",
       "}\n",
       "\n",
       "#sk-container-id-1 div.sk-estimator.fitted input.sk-toggleable__control:checked~label.sk-toggleable__label {\n",
       "  /* fitted */\n",
       "  background-color: var(--sklearn-color-fitted-level-2);\n",
       "}\n",
       "\n",
       "#sk-container-id-1 div.sk-label label.sk-toggleable__label,\n",
       "#sk-container-id-1 div.sk-label label {\n",
       "  /* The background is the default theme color */\n",
       "  color: var(--sklearn-color-text-on-default-background);\n",
       "}\n",
       "\n",
       "/* On hover, darken the color of the background */\n",
       "#sk-container-id-1 div.sk-label:hover label.sk-toggleable__label {\n",
       "  color: var(--sklearn-color-text);\n",
       "  background-color: var(--sklearn-color-unfitted-level-2);\n",
       "}\n",
       "\n",
       "/* Label box, darken color on hover, fitted */\n",
       "#sk-container-id-1 div.sk-label.fitted:hover label.sk-toggleable__label.fitted {\n",
       "  color: var(--sklearn-color-text);\n",
       "  background-color: var(--sklearn-color-fitted-level-2);\n",
       "}\n",
       "\n",
       "/* Estimator label */\n",
       "\n",
       "#sk-container-id-1 div.sk-label label {\n",
       "  font-family: monospace;\n",
       "  font-weight: bold;\n",
       "  display: inline-block;\n",
       "  line-height: 1.2em;\n",
       "}\n",
       "\n",
       "#sk-container-id-1 div.sk-label-container {\n",
       "  text-align: center;\n",
       "}\n",
       "\n",
       "/* Estimator-specific */\n",
       "#sk-container-id-1 div.sk-estimator {\n",
       "  font-family: monospace;\n",
       "  border: 1px dotted var(--sklearn-color-border-box);\n",
       "  border-radius: 0.25em;\n",
       "  box-sizing: border-box;\n",
       "  margin-bottom: 0.5em;\n",
       "  /* unfitted */\n",
       "  background-color: var(--sklearn-color-unfitted-level-0);\n",
       "}\n",
       "\n",
       "#sk-container-id-1 div.sk-estimator.fitted {\n",
       "  /* fitted */\n",
       "  background-color: var(--sklearn-color-fitted-level-0);\n",
       "}\n",
       "\n",
       "/* on hover */\n",
       "#sk-container-id-1 div.sk-estimator:hover {\n",
       "  /* unfitted */\n",
       "  background-color: var(--sklearn-color-unfitted-level-2);\n",
       "}\n",
       "\n",
       "#sk-container-id-1 div.sk-estimator.fitted:hover {\n",
       "  /* fitted */\n",
       "  background-color: var(--sklearn-color-fitted-level-2);\n",
       "}\n",
       "\n",
       "/* Specification for estimator info (e.g. \"i\" and \"?\") */\n",
       "\n",
       "/* Common style for \"i\" and \"?\" */\n",
       "\n",
       ".sk-estimator-doc-link,\n",
       "a:link.sk-estimator-doc-link,\n",
       "a:visited.sk-estimator-doc-link {\n",
       "  float: right;\n",
       "  font-size: smaller;\n",
       "  line-height: 1em;\n",
       "  font-family: monospace;\n",
       "  background-color: var(--sklearn-color-background);\n",
       "  border-radius: 1em;\n",
       "  height: 1em;\n",
       "  width: 1em;\n",
       "  text-decoration: none !important;\n",
       "  margin-left: 0.5em;\n",
       "  text-align: center;\n",
       "  /* unfitted */\n",
       "  border: var(--sklearn-color-unfitted-level-1) 1pt solid;\n",
       "  color: var(--sklearn-color-unfitted-level-1);\n",
       "}\n",
       "\n",
       ".sk-estimator-doc-link.fitted,\n",
       "a:link.sk-estimator-doc-link.fitted,\n",
       "a:visited.sk-estimator-doc-link.fitted {\n",
       "  /* fitted */\n",
       "  border: var(--sklearn-color-fitted-level-1) 1pt solid;\n",
       "  color: var(--sklearn-color-fitted-level-1);\n",
       "}\n",
       "\n",
       "/* On hover */\n",
       "div.sk-estimator:hover .sk-estimator-doc-link:hover,\n",
       ".sk-estimator-doc-link:hover,\n",
       "div.sk-label-container:hover .sk-estimator-doc-link:hover,\n",
       ".sk-estimator-doc-link:hover {\n",
       "  /* unfitted */\n",
       "  background-color: var(--sklearn-color-unfitted-level-3);\n",
       "  color: var(--sklearn-color-background);\n",
       "  text-decoration: none;\n",
       "}\n",
       "\n",
       "div.sk-estimator.fitted:hover .sk-estimator-doc-link.fitted:hover,\n",
       ".sk-estimator-doc-link.fitted:hover,\n",
       "div.sk-label-container:hover .sk-estimator-doc-link.fitted:hover,\n",
       ".sk-estimator-doc-link.fitted:hover {\n",
       "  /* fitted */\n",
       "  background-color: var(--sklearn-color-fitted-level-3);\n",
       "  color: var(--sklearn-color-background);\n",
       "  text-decoration: none;\n",
       "}\n",
       "\n",
       "/* Span, style for the box shown on hovering the info icon */\n",
       ".sk-estimator-doc-link span {\n",
       "  display: none;\n",
       "  z-index: 9999;\n",
       "  position: relative;\n",
       "  font-weight: normal;\n",
       "  right: .2ex;\n",
       "  padding: .5ex;\n",
       "  margin: .5ex;\n",
       "  width: min-content;\n",
       "  min-width: 20ex;\n",
       "  max-width: 50ex;\n",
       "  color: var(--sklearn-color-text);\n",
       "  box-shadow: 2pt 2pt 4pt #999;\n",
       "  /* unfitted */\n",
       "  background: var(--sklearn-color-unfitted-level-0);\n",
       "  border: .5pt solid var(--sklearn-color-unfitted-level-3);\n",
       "}\n",
       "\n",
       ".sk-estimator-doc-link.fitted span {\n",
       "  /* fitted */\n",
       "  background: var(--sklearn-color-fitted-level-0);\n",
       "  border: var(--sklearn-color-fitted-level-3);\n",
       "}\n",
       "\n",
       ".sk-estimator-doc-link:hover span {\n",
       "  display: block;\n",
       "}\n",
       "\n",
       "/* \"?\"-specific style due to the `<a>` HTML tag */\n",
       "\n",
       "#sk-container-id-1 a.estimator_doc_link {\n",
       "  float: right;\n",
       "  font-size: 1rem;\n",
       "  line-height: 1em;\n",
       "  font-family: monospace;\n",
       "  background-color: var(--sklearn-color-background);\n",
       "  border-radius: 1rem;\n",
       "  height: 1rem;\n",
       "  width: 1rem;\n",
       "  text-decoration: none;\n",
       "  /* unfitted */\n",
       "  color: var(--sklearn-color-unfitted-level-1);\n",
       "  border: var(--sklearn-color-unfitted-level-1) 1pt solid;\n",
       "}\n",
       "\n",
       "#sk-container-id-1 a.estimator_doc_link.fitted {\n",
       "  /* fitted */\n",
       "  border: var(--sklearn-color-fitted-level-1) 1pt solid;\n",
       "  color: var(--sklearn-color-fitted-level-1);\n",
       "}\n",
       "\n",
       "/* On hover */\n",
       "#sk-container-id-1 a.estimator_doc_link:hover {\n",
       "  /* unfitted */\n",
       "  background-color: var(--sklearn-color-unfitted-level-3);\n",
       "  color: var(--sklearn-color-background);\n",
       "  text-decoration: none;\n",
       "}\n",
       "\n",
       "#sk-container-id-1 a.estimator_doc_link.fitted:hover {\n",
       "  /* fitted */\n",
       "  background-color: var(--sklearn-color-fitted-level-3);\n",
       "}\n",
       "</style><div id=\"sk-container-id-1\" class=\"sk-top-container\"><div class=\"sk-text-repr-fallback\"><pre>NearestNeighbors(algorithm=&#x27;brute&#x27;, metric=&#x27;cosine&#x27;)</pre><b>In a Jupyter environment, please rerun this cell to show the HTML representation or trust the notebook. <br />On GitHub, the HTML representation is unable to render, please try loading this page with nbviewer.org.</b></div><div class=\"sk-container\" hidden><div class=\"sk-item\"><div class=\"sk-estimator fitted sk-toggleable\"><input class=\"sk-toggleable__control sk-hidden--visually\" id=\"sk-estimator-id-1\" type=\"checkbox\" checked><label for=\"sk-estimator-id-1\" class=\"sk-toggleable__label fitted sk-toggleable__label-arrow\"><div><div>NearestNeighbors</div></div><div><a class=\"sk-estimator-doc-link fitted\" rel=\"noreferrer\" target=\"_blank\" href=\"https://scikit-learn.org/1.6/modules/generated/sklearn.neighbors.NearestNeighbors.html\">?<span>Documentation for NearestNeighbors</span></a><span class=\"sk-estimator-doc-link fitted\">i<span>Fitted</span></span></div></label><div class=\"sk-toggleable__content fitted\"><pre>NearestNeighbors(algorithm=&#x27;brute&#x27;, metric=&#x27;cosine&#x27;)</pre></div> </div></div></div></div>"
      ],
      "text/plain": [
       "NearestNeighbors(algorithm='brute', metric='cosine')"
      ]
     },
     "execution_count": 13,
     "metadata": {},
     "output_type": "execute_result"
    }
   ],
   "source": [
    "from sklearn.neighbors import NearestNeighbors\n",
    "from scipy.sparse import csr_matrix\n",
    "\n",
    "\n",
    "ratings_matrix = csr_matrix(user_movie_matrix.to_numpy())\n",
    "\n",
    "model_knn = NearestNeighbors(metric=\"cosine\", algorithm=\"brute\")\n",
    "\n",
    "model_knn.fit(ratings_matrix)"
   ]
  },
  {
   "cell_type": "markdown",
   "id": "21ff4eb2",
   "metadata": {},
   "source": [
    "## 6. Evaluación del modelo\n",
    "Evaluamos el sistema por su cobertura (usuarios y películas disponibles)."
   ]
  },
  {
   "cell_type": "code",
   "execution_count": 14,
   "id": "2edd4ccf",
   "metadata": {},
   "outputs": [
    {
     "name": "stdout",
     "output_type": "stream",
     "text": [
      "Usuarios: 610, Películas: 9725\n"
     ]
    }
   ],
   "source": [
    "# Métrica de cobertura\n",
    "n_users, n_movies = user_movie_matrix.shape\n",
    "print(f\"Usuarios: {n_users}, Películas: {n_movies}\")"
   ]
  },
  {
   "cell_type": "markdown",
   "id": "3dda1607",
   "metadata": {},
   "source": [
    "## 7. Visualización de resultados y métricas\n",
    "Generamos un heatmap de similitud para ver la estructura entre usuarios."
   ]
  },
  {
   "cell_type": "code",
   "execution_count": 15,
   "id": "b23bf1d6",
   "metadata": {},
   "outputs": [
    {
     "data": {
      "image/png": "[encoded data removed]",
      "text/plain": [
       "<Figure size 600x600 with 2 Axes>"
      ]
     },
     "metadata": {},
     "output_type": "display_data"
    }
   ],
   "source": [
    "from sklearn.metrics.pairwise import cosine_similarity\n",
    "import matplotlib.pyplot as plt\n",
    "\n",
    "similarity_matrix = cosine_similarity(ratings_matrix)\n",
    "plt.figure(figsize=(6,6))\n",
    "plt.imshow(similarity_matrix[:30, :30], cmap=\"viridis\")\n",
    "plt.colorbar()\n",
    "plt.title(\"Matriz de similitud entre usuarios\")\n",
    "plt.show()"
   ]
  }
 ],
 "metadata": {
  "kernelspec": {
   "display_name": "venv",
   "language": "python",
   "name": "python3"
  },
  "language_info": {
   "codemirror_mode": {
    "name": "ipython",
    "version": 3
   },
   "file_extension": ".py",
   "mimetype": "text/x-python",
   "name": "python",
   "nbconvert_exporter": "python",
   "pygments_lexer": "ipython3",
   "version": "3.10.12"
  }
 },
 "nbformat": 4,
 "nbformat_minor": 5
}
